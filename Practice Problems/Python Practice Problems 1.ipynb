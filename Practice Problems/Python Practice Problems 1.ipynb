{
 "cells": [
  {
   "cell_type": "markdown",
   "id": "a352b0bb",
   "metadata": {},
   "source": [
    "# PRACTICE EXERCISE 1 ON PYTHON BASICS\n",
    "\n",
    "**1. Write a Python program which accepts the radius of a circle from the user\n",
    "    and compute the area.\n",
    "    Sample input: Enter the radius: 3\n",
    "    Sample output: Area of Circle is 28.59999999999**"
   ]
  },
  {
   "cell_type": "code",
   "execution_count": 12,
   "id": "2e34490b",
   "metadata": {},
   "outputs": [
    {
     "name": "stdout",
     "output_type": "stream",
     "text": [
      "Enter the radius of the circle: 3\n",
      "Area of the circle with radius  3  is  28.26\n"
     ]
    }
   ],
   "source": [
    "radius= int(input(\"Enter the radius of the circle: \"))\n",
    "area= radius**2*3.14\n",
    "print(\"Area of the circle with radius \",radius,\" is \",area)"
   ]
  },
  {
   "cell_type": "markdown",
   "id": "e6abf717",
   "metadata": {},
   "source": [
    "**2. Write a Python Program to accept the details of a student like name, roll\n",
    "    number and mark and display it.\n",
    "    Sample input: Enter the name: Anisha\n",
    "    Enter the roll number: 21\n",
    "    Enter the mark: 78\n",
    "    Sample output: Name: Anisha\n",
    "    Roll No: 21\n",
    "    Mark: 78**\n"
   ]
  },
  {
   "cell_type": "code",
   "execution_count": 10,
   "id": "8d5ea283",
   "metadata": {},
   "outputs": [
    {
     "name": "stdout",
     "output_type": "stream",
     "text": [
      "Enter the name: Abhi\n",
      "Enter the roll number: 1\n",
      "Enter the mark: 23\n",
      "Name:  Abhi\n",
      "Roll no:  1\n",
      "Mark:  23\n"
     ]
    }
   ],
   "source": [
    "name=input(\"Enter the name: \")\n",
    "roll_no=input(\"Enter the roll number: \")\n",
    "mark=input(\"Enter the mark: \")\n",
    "print(\"Name: \",name)\n",
    "print(\"Roll no: \",roll_no)\n",
    "print(\"Mark: \",mark)"
   ]
  },
  {
   "cell_type": "markdown",
   "id": "29faa1c5",
   "metadata": {},
   "source": [
    "**3. Write a Python program to get the largest number from a list.\n",
    "    Sample input: 12, 3, 47, 10\n",
    "    Sample output: 47 is the largest number.**"
   ]
  },
  {
   "cell_type": "code",
   "execution_count": 70,
   "id": "6149164e",
   "metadata": {},
   "outputs": [
    {
     "name": "stdout",
     "output_type": "stream",
     "text": [
      "Enter the number of elements: 4\n",
      "Enter the elements\n",
      "12\n",
      "3\n",
      "47\n",
      "10\n",
      "Input:  [12, 3, 47, 10]\n",
      "47  is the largest numbers\n"
     ]
    }
   ],
   "source": [
    "largest=0\n",
    "j=0\n",
    "number=[]\n",
    "\n",
    "n= int(input(\"Enter the number of elements: \"))\n",
    "print(\"Enter the elements\")\n",
    "\n",
    "for i in range(n):\n",
    "    x= int(input())\n",
    "    number.append(x)\n",
    "    \n",
    "print(\"Input: \",number)\n",
    "\n",
    "for j in number:\n",
    "    if j>largest:\n",
    "        largest=j\n",
    "print(largest,\" is the largest numbers\")"
   ]
  },
  {
   "cell_type": "markdown",
   "id": "4fe3567b",
   "metadata": {},
   "source": [
    "**4. Given a range of first 10 numbers, write a Python program to iterate from\n",
    "    start number to the end number and print the sum of the current number\n",
    "    and previous number.\n",
    "    Sample input: 1….10\n",
    "    Sample output: Current Number 1 Previous Number 0 Sum: 1 Current\n",
    "    Number 2 Previous Number 1 Sum: 3 Current Number 3 Previous\n",
    "    Number 2 Sum: 5… Current Number 10 Previous Number 9 Sum: 19**\n"
   ]
  },
  {
   "cell_type": "code",
   "execution_count": 24,
   "id": "8091ea76",
   "metadata": {},
   "outputs": [
    {
     "name": "stdout",
     "output_type": "stream",
     "text": [
      "Current Number 1  Previous Number  0  Sum: 1\n",
      "Current Number 2  Previous Number  1  Sum: 3\n",
      "Current Number 3  Previous Number  2  Sum: 5\n",
      "Current Number 4  Previous Number  3  Sum: 7\n",
      "Current Number 5  Previous Number  4  Sum: 9\n",
      "Current Number 6  Previous Number  5  Sum: 11\n",
      "Current Number 7  Previous Number  6  Sum: 13\n",
      "Current Number 8  Previous Number  7  Sum: 15\n",
      "Current Number 9  Previous Number  8  Sum: 17\n",
      "Current Number 10  Previous Number  9  Sum: 19\n"
     ]
    }
   ],
   "source": [
    "for i in range(1,11):\n",
    "    n=i-1\n",
    "    a=n+i\n",
    "    print(\"Current Number\" ,i,\" Previous Number \",n,\" Sum:\", a)\n"
   ]
  },
  {
   "cell_type": "markdown",
   "id": "14379e3a",
   "metadata": {},
   "source": [
    "**5. Write a Python program to print only those numbers which are divisible\n",
    "    of 5.\n",
    "    Sample input: 10, 20,33,46,55 Sample output: 10, 20, 55**"
   ]
  },
  {
   "cell_type": "code",
   "execution_count": 69,
   "id": "7c1c4e83",
   "metadata": {},
   "outputs": [
    {
     "name": "stdout",
     "output_type": "stream",
     "text": [
      "Enter the number of elements: 5\n",
      "Enter the elements\n",
      "10\n",
      "20\n",
      "33\n",
      "46\n",
      "55\n",
      "Input:  [10, 20, 33, 46, 55]\n",
      "divisible by 5:  [10, 20, 55]\n"
     ]
    }
   ],
   "source": [
    "div_by_5=[]\n",
    "number=[]\n",
    "\n",
    "n= int(input(\"Enter the number of elements: \"))\n",
    "print(\"Enter the elements\")\n",
    "\n",
    "for i in range(n):\n",
    "    x= int(input())\n",
    "    number.append(x)\n",
    "    \n",
    "print(\"Input: \",number)\n",
    "\n",
    "for j in number:\n",
    "    if j%5==0:\n",
    "        div_by_5.append(j)\n",
    "\n",
    "print(\"divisible by 5: \",div_by_5)"
   ]
  },
  {
   "cell_type": "markdown",
   "id": "6f3d9c5c",
   "metadata": {},
   "source": [
    "**6. Write a Python program to check whether a number is prime or not.\n",
    "    Sample input: Enter the number: 3\n",
    "    Sample output: 3 is a prime number.**\n"
   ]
  },
  {
   "cell_type": "code",
   "execution_count": 68,
   "id": "c6f1e874",
   "metadata": {},
   "outputs": [
    {
     "name": "stdout",
     "output_type": "stream",
     "text": [
      "Enter the number: 3\n",
      "3 is a prime number\n"
     ]
    }
   ],
   "source": [
    "num=int(input(\"Enter the number: \"))\n",
    "for i in range(2,num//2):\n",
    "    if num%i==0:\n",
    "        print(num,\"is not a prime number\")\n",
    "        break\n",
    "else:\n",
    "    print(num,\"is a prime number\")\n"
   ]
  },
  {
   "cell_type": "markdown",
   "id": "ac62a856",
   "metadata": {},
   "source": [
    "**7. Write a Python program to reverse a list using for loop.\n",
    "    Sample input: 10,40,30,70\n",
    "    Sample output: 70,30,40,10**"
   ]
  },
  {
   "cell_type": "code",
   "execution_count": 67,
   "id": "c4ba016d",
   "metadata": {},
   "outputs": [
    {
     "name": "stdout",
     "output_type": "stream",
     "text": [
      "Enter the number of elements: 4\n",
      "Enter the elements\n",
      "10\n",
      "40\n",
      "30\n",
      "70\n",
      "Input:  [10, 40, 30, 70]\n",
      "output:  [70, 30, 40, 10]\n"
     ]
    }
   ],
   "source": [
    "number=[]\n",
    "reverse=[]\n",
    "\n",
    "n= int(input(\"Enter the number of elements: \"))\n",
    "print(\"Enter the elements\")\n",
    "\n",
    "for i in range(n):\n",
    "    x= int(input())\n",
    "    number.append(x)\n",
    "    \n",
    "print(\"Input: \",number)\n",
    "\n",
    "for j in range(n):\n",
    "    x=number.pop()\n",
    "    reverse.append(x)\n",
    "print(\"output: \",reverse)\n",
    "    \n"
   ]
  },
  {
   "cell_type": "markdown",
   "id": "223a4dd5",
   "metadata": {},
   "source": [
    "8. Write a Python program to print the following pattern.\n",
    "    *\n",
    "    **\n",
    "    ***\n",
    "    ****\n",
    "    "
   ]
  },
  {
   "cell_type": "code",
   "execution_count": 43,
   "id": "f732d782",
   "metadata": {},
   "outputs": [
    {
     "name": "stdout",
     "output_type": "stream",
     "text": [
      "*\n",
      "**\n",
      "***\n",
      "****\n"
     ]
    }
   ],
   "source": [
    "for i in range(1,5):\n",
    "    print(\"*\"*i)"
   ]
  },
  {
   "cell_type": "markdown",
   "id": "831ef28c",
   "metadata": {},
   "source": [
    "**9. Write a Python program to find the maximum of three numbers\n",
    "    Sample input: 34,12,7\n",
    "    Sample output: 34**\n"
   ]
  },
  {
   "cell_type": "code",
   "execution_count": 56,
   "id": "6b63f61d",
   "metadata": {},
   "outputs": [
    {
     "name": "stdout",
     "output_type": "stream",
     "text": [
      "Enter the 3 elements\n",
      "34\n",
      "12\n",
      "7\n",
      "input: 34 12 7\n",
      "34\n"
     ]
    }
   ],
   "source": [
    "print(\"Enter the 3 elements\")\n",
    "n1=int(input())\n",
    "n2=int(input())\n",
    "n3=int(input())\n",
    "print(\"input:\",n1,n2,n3)\n",
    "if n1>n2 and n1>n3:\n",
    "    print(n1)\n",
    "elif n2>n3 and n2>n1:\n",
    "    print(n2)\n",
    "elif n3>n1 and n3>n2:\n",
    "    print(n3)\n",
    "\n"
   ]
  },
  {
   "cell_type": "markdown",
   "id": "6e939750",
   "metadata": {},
   "source": [
    "10. Write a Python program to construct the following pattern, using a\n",
    "    nested for loop.\n",
    "    *\n",
    "    **\n",
    "    ***\n",
    "    ****\n",
    "    *****\n",
    "    ****\n",
    "    ***\n",
    "    **\n",
    "    *"
   ]
  },
  {
   "cell_type": "code",
   "execution_count": 66,
   "id": "27826da3",
   "metadata": {},
   "outputs": [
    {
     "name": "stdout",
     "output_type": "stream",
     "text": [
      "*\n",
      "**\n",
      "***\n",
      "****\n",
      "*****\n",
      "****\n",
      "***\n",
      "**\n",
      "*\n",
      "\n"
     ]
    }
   ],
   "source": [
    "num=[0,1]\n",
    "number=[1,2,3,4,5]\n",
    "\n",
    "for i in num:\n",
    "    a=i*5\n",
    "    for j in number:\n",
    "        j=abs(a-j)\n",
    "        print(\"*\"*j)"
   ]
  }
 ],
 "metadata": {
  "kernelspec": {
   "display_name": "Python 3 (ipykernel)",
   "language": "python",
   "name": "python3"
  },
  "language_info": {
   "codemirror_mode": {
    "name": "ipython",
    "version": 3
   },
   "file_extension": ".py",
   "mimetype": "text/x-python",
   "name": "python",
   "nbconvert_exporter": "python",
   "pygments_lexer": "ipython3",
   "version": "3.11.5"
  }
 },
 "nbformat": 4,
 "nbformat_minor": 5
}
