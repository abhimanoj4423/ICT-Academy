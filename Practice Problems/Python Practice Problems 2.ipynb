{
 "cells": [
  {
   "cell_type": "markdown",
   "id": "1dfac0ec",
   "metadata": {},
   "source": [
    "# PRACTICE EXERCISES ON PYTHON BASICS -2\n",
    "**1. Write a Python program to accept a string value from the user and display\n",
    "    the count of each character in that string. Sample input: Enter a string\n",
    "    value: assembly Sample output: a=1, s=2, e=1, m=1, b=1, l=1, y=1** "
   ]
  },
  {
   "cell_type": "code",
   "execution_count": 76,
   "id": "a2509b8b",
   "metadata": {},
   "outputs": [
    {
     "name": "stdout",
     "output_type": "stream",
     "text": [
      "Enter the String: assembly\n",
      "a = 1\n",
      "s = 2\n",
      "s = 2\n",
      "e = 1\n",
      "m = 1\n",
      "b = 1\n",
      "l = 1\n",
      "y = 1\n"
     ]
    }
   ],
   "source": [
    "n= input(\"Enter the String: \")\n",
    "a = {}\n",
    "for i in n:\n",
    "    x= n.count(i)\n",
    "    a=i\n",
    "    print(a,\"=\",x)"
   ]
  },
  {
   "cell_type": "markdown",
   "id": "ab7d3365",
   "metadata": {},
   "source": [
    "**2. Write a Python program to find the maximum of three numbers\n",
    "    Sample input: 34,12,7\n",
    "    Sample output: 34**"
   ]
  },
  {
   "cell_type": "code",
   "execution_count": 23,
   "id": "dd04c12c",
   "metadata": {},
   "outputs": [
    {
     "name": "stdout",
     "output_type": "stream",
     "text": [
      "Enter the 3 elements\n",
      "34\n",
      "12\n",
      "7\n",
      "input: 34 12 7\n",
      "34\n"
     ]
    }
   ],
   "source": [
    "print(\"Enter the 3 elements\")\n",
    "n1=int(input())\n",
    "n2=int(input())\n",
    "n3=int(input())\n",
    "print(\"input:\",n1,n2,n3)\n",
    "if n1>n2 and n1>n3:\n",
    "    print(n1)\n",
    "elif n2>n3 and n2>n1:\n",
    "    print(n2)\n",
    "elif n3>n1 and n3>n2:\n",
    "    print(n3)\n"
   ]
  },
  {
   "cell_type": "markdown",
   "id": "125b4449",
   "metadata": {},
   "source": [
    "**3. Write a Python function called exponent(base,exp) that returns an\n",
    "    integer value of base raises to the power of exp. Sample input: Enter th\n",
    "    base: 2 Enter the exponent: 3 Sample output: 8 **"
   ]
  },
  {
   "cell_type": "code",
   "execution_count": 27,
   "id": "f713b5af",
   "metadata": {},
   "outputs": [
    {
     "name": "stdout",
     "output_type": "stream",
     "text": [
      "Enter the base: 2\n",
      "Enter the exponent: 3\n",
      "output: 8\n"
     ]
    }
   ],
   "source": [
    "def exponent(base,exp):\n",
    "    return base**exp\n",
    "\n",
    "b =int(input(\"Enter the base: \"))\n",
    "e =int(input(\"Enter the exponent: \"))\n",
    "a = exponent(b,e)\n",
    "\n",
    "print(\"output:\",a)"
   ]
  },
  {
   "cell_type": "markdown",
   "id": "1462770d",
   "metadata": {},
   "source": [
    "**4. Write a Python function that takes a positive integer and returns the sum\n",
    "    of the cube of all the positive integers smaller than the specified number.\n",
    "    Sample input: 4 Sample output: 36**"
   ]
  },
  {
   "cell_type": "code",
   "execution_count": 34,
   "id": "4b2e55d2",
   "metadata": {},
   "outputs": [
    {
     "name": "stdout",
     "output_type": "stream",
     "text": [
      "Enter a number: 4\n",
      "Output: 36\n"
     ]
    }
   ],
   "source": [
    "sum=0\n",
    "n= int(input(\"Enter a number: \"))\n",
    "while n>0:\n",
    "    n-=1\n",
    "    a=exponent(n,3)\n",
    "    sum+=a\n",
    "print(\"Output:\",sum)\n",
    "    "
   ]
  },
  {
   "cell_type": "markdown",
   "id": "0a04070a",
   "metadata": {},
   "source": [
    "**5. Write a Python program which iterates from 1 to 10. For multiples of 2,\n",
    "    print “Fizz” instead of the number and for the multiples of 5, print “Buzz”.\n",
    "    For numbers which are multiples of both 2 and 5, print “FizzBuzz”.\n",
    "    Sample input: numbers from 1 to 10 Sample output: 1 Fizz 3 Fizz Buzz\n",
    "    Fizz 7 Fizz 9 FizzBuzz**\n"
   ]
  },
  {
   "cell_type": "code",
   "execution_count": 54,
   "id": "c856b5c6",
   "metadata": {},
   "outputs": [
    {
     "name": "stdout",
     "output_type": "stream",
     "text": [
      "1\n",
      "Fizz\n",
      "3\n",
      "Fizz\n",
      "Buzz\n",
      "Fizz\n",
      "7\n",
      "Fizz\n",
      "9\n",
      "FizzBuzz\n"
     ]
    }
   ],
   "source": [
    "a=[]\n",
    "a = range(1,11)\n",
    "for i in a:\n",
    "    if ((i%2==0) and (i%5==0)):\n",
    "        print(\"FizzBuzz\")\n",
    "    elif i%5==0:\n",
    "        print(\"Buzz\")\n",
    "    elif i%2==0:\n",
    "        print(\"Fizz\")\n",
    "    else:\n",
    "        print(i)"
   ]
  },
  {
   "cell_type": "markdown",
   "id": "2be54f96",
   "metadata": {},
   "source": [
    "**6. Write a Python program to find the most frequent item in a list of\n",
    "    numbers. Sample input: 2, 3, 4, 2, 5, 2 Sample output: 2**"
   ]
  },
  {
   "cell_type": "code",
   "execution_count": 56,
   "id": "afc030f6",
   "metadata": {},
   "outputs": [
    {
     "name": "stdout",
     "output_type": "stream",
     "text": [
      "Input: [2, 3, 4, 2, 5, 2]\n",
      "Output: 2\n"
     ]
    }
   ],
   "source": [
    "def most_freq(List):\n",
    "    return max(set(List), key = List.count)\n",
    " \n",
    "List = [2, 3, 4, 2, 5, 2]\n",
    "print(\"Input:\",List)\n",
    "print(\"Output:\",most_freq(List))"
   ]
  },
  {
   "cell_type": "markdown",
   "id": "c1da925d",
   "metadata": {},
   "source": [
    "**7. Write a Python program to find the sum of squares of the numbers in a\n",
    "    list. Sample input: 2,1,3,1 Sample output: 15**"
   ]
  },
  {
   "cell_type": "code",
   "execution_count": 57,
   "id": "7c5fbf5b",
   "metadata": {},
   "outputs": [
    {
     "name": "stdout",
     "output_type": "stream",
     "text": [
      "Enter the number of elements: 4\n",
      "Enter the elements\n",
      "2\n",
      "1\n",
      "3\n",
      "1\n",
      "input: [2, 1, 3, 1]\n",
      "Output: 15\n"
     ]
    }
   ],
   "source": [
    "number=[]\n",
    "Sum=0\n",
    "\n",
    "n= int(input(\"Enter the number of elements: \"))\n",
    "print(\"Enter the elements\")\n",
    "\n",
    "for i in range(n):\n",
    "    x= int(input())\n",
    "    number.append(x)\n",
    "print(\"input:\",number)\n",
    "\n",
    "for j in number:\n",
    "    s=exponent(j,2)\n",
    "    Sum +=s\n",
    "print(\"Output:\",Sum)"
   ]
  },
  {
   "cell_type": "markdown",
   "id": "c1c496c8",
   "metadata": {},
   "source": [
    "**8. Write a Python program using for loop that will iterate from 1 to 15. For\n",
    "    each iteration, check if the current number is odd or even, and display the\n",
    "    message to the screen as odd or even. Sample input: 1….15 Sample\n",
    "    output: 1-odd 2-even …. 15-odd**"
   ]
  },
  {
   "cell_type": "code",
   "execution_count": 59,
   "id": "434a1e7b",
   "metadata": {},
   "outputs": [
    {
     "name": "stdout",
     "output_type": "stream",
     "text": [
      "1 - odd\n",
      "2 - even\n",
      "3 - odd\n",
      "4 - even\n",
      "5 - odd\n",
      "6 - even\n",
      "7 - odd\n",
      "8 - even\n",
      "9 - odd\n",
      "10 - even\n",
      "11 - odd\n",
      "12 - even\n",
      "13 - odd\n",
      "14 - even\n",
      "15 - odd\n"
     ]
    }
   ],
   "source": [
    "for i in range(1,16):\n",
    "    if i%2==0:\n",
    "        print(i,\"- even\")\n",
    "    else:\n",
    "        print(i,\"- odd\")"
   ]
  },
  {
   "cell_type": "markdown",
   "id": "2942cc0c",
   "metadata": {},
   "source": [
    "**9. Write a Python program to convert temperatures to and from Celsius\n",
    "    Fahrenheit. [Formula: c/5=f-32/9 where c=temperature in Celsius and f=\n",
    "    temperature in Fahrenheit.] Sample input: Temperature in Fahrenheit\n",
    "    =41 Sample output: Temperature in Celsius =5**"
   ]
  },
  {
   "cell_type": "code",
   "execution_count": 68,
   "id": "13f0dba3",
   "metadata": {},
   "outputs": [
    {
     "name": "stdout",
     "output_type": "stream",
     "text": [
      "Unit of temperature: 'C' =temperature in Celsius and 'F'=temperature in Fahrenheit\n",
      "Enter 'C' or 'F': f\n",
      "Enter the Temperature in Fahrenheit: 41\n",
      "Temperature in Celsius is  5.0\n"
     ]
    }
   ],
   "source": [
    "print(\"Unit of temperature: 'C' =temperature in Celsius and 'F'=temperature in Fahrenheit\")\n",
    "\n",
    "unit=input(\"Enter 'C' or 'F': \")\n",
    "\n",
    "if unit.upper()=='C':\n",
    "    c=int(input(\"Enter the Temperature in Celsius: \"))\n",
    "    F=c*9/5+32\n",
    "    print(\"Temperature in Fahrenheit is \",F)\n",
    "elif unit.upper()=='F':\n",
    "    f=int(input(\"Enter the Temperature in Fahrenheit: \"))\n",
    "    C=(f-32)*5/9\n",
    "    print(\"Temperature in Celsius is \",C)\n",
    "else:\n",
    "    print(\"Enter a valid input!!!\")\n",
    "    "
   ]
  },
  {
   "cell_type": "markdown",
   "id": "74757e0e",
   "metadata": {},
   "source": [
    "**10. Write a Python function to calculate the factorial of a number (a\n",
    "    nonnegative integer). The function accepts the number as an argument.\n",
    "    Sample input: 3 Sample output: 6**"
   ]
  },
  {
   "cell_type": "code",
   "execution_count": 73,
   "id": "17394e12",
   "metadata": {},
   "outputs": [
    {
     "name": "stdout",
     "output_type": "stream",
     "text": [
      "Enter a positive integer: 3\n",
      "the factorial is  6\n"
     ]
    }
   ],
   "source": [
    "fact=1\n",
    "num=int(input(\"Enter a positive integer: \"))\n",
    "\n",
    "while num>0:\n",
    "    fact*=num\n",
    "    num-=1\n",
    "\n",
    "print(\"the factorial is \",fact)"
   ]
  },
  {
   "cell_type": "code",
   "execution_count": null,
   "id": "1f3d1128",
   "metadata": {},
   "outputs": [],
   "source": []
  },
  {
   "cell_type": "code",
   "execution_count": null,
   "id": "f9375928",
   "metadata": {},
   "outputs": [],
   "source": []
  }
 ],
 "metadata": {
  "kernelspec": {
   "display_name": "Python 3 (ipykernel)",
   "language": "python",
   "name": "python3"
  },
  "language_info": {
   "codemirror_mode": {
    "name": "ipython",
    "version": 3
   },
   "file_extension": ".py",
   "mimetype": "text/x-python",
   "name": "python",
   "nbconvert_exporter": "python",
   "pygments_lexer": "ipython3",
   "version": "3.11.5"
  }
 },
 "nbformat": 4,
 "nbformat_minor": 5
}
